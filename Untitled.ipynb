{
 "cells": [
  {
   "cell_type": "code",
   "execution_count": 5,
   "metadata": {},
   "outputs": [
    {
     "name": "stdout",
     "output_type": "stream",
     "text": [
      "['siht', 'si', 'a', 'gnirts']\n"
     ]
    }
   ],
   "source": [
    "def reverse(s):\n",
    "    s_ = s.split() # makes the array of from string\n",
    "    new_s = []\n",
    "    \n",
    "    for i in s_:\n",
    "        new_s.append(i[::-1])\n",
    "        \n",
    "    return new_s\n",
    "    \n",
    "print(reverse('this is a string'))"
   ]
  },
  {
   "cell_type": "code",
   "execution_count": 11,
   "metadata": {},
   "outputs": [
    {
     "data": {
      "text/plain": [
       "['siht', 'tihs', 'si', 'looc']"
      ]
     },
     "execution_count": 11,
     "metadata": {},
     "output_type": "execute_result"
    }
   ],
   "source": [
    "def recurse(s):\n",
    "    if len(s) == 1:\n",
    "        return s\n",
    "    \n",
    "    else:\n",
    "        return recurse(s[1:]) + s[0]\n",
    "    \n",
    "\n",
    "def reverse2(s):\n",
    "    s_ = s.split()\n",
    "    new_s = []\n",
    "    \n",
    "    for i in s_:\n",
    "        new_s.append(recurse(i))\n",
    "        \n",
    "    return new_s\n",
    "\n",
    "reverse2('this shit is cool')"
   ]
  },
  {
   "cell_type": "code",
   "execution_count": 40,
   "metadata": {},
   "outputs": [
    {
     "name": "stdout",
     "output_type": "stream",
     "text": [
      "5 1\n",
      "BGGBG\n",
      "GGBGB\n"
     ]
    }
   ],
   "source": [
    "def queue():\n",
    "    n, t = [int(x) for x in input().split()]\n",
    "    s = str(input())\n",
    "    s = [str(x) for x in s]\n",
    "    \n",
    "    if len(s) > n:\n",
    "        return 'Invalid string'\n",
    "    \n",
    "    else:\n",
    "        for c in range(t):\n",
    "            for idx in range(len(s)-1):\n",
    "                if s[idx] == 'B' and s[idx+1] == 'G':\n",
    "                    s[idx+1], s[idx] = s[idx], s[idx+1]\n",
    "                    s = s\n",
    "                else:\n",
    "                    continue\n",
    "    \n",
    "    return ''.join(s)\n",
    "\n",
    "    \n",
    "if __name__ == '__main__':\n",
    "    print(queue())"
   ]
  },
  {
   "cell_type": "code",
   "execution_count": 5,
   "metadata": {},
   "outputs": [],
   "source": [
    "class Node:\n",
    "    def __init__(self, data):\n",
    "        self.data = data \n",
    "        self.left = None\n",
    "        self.right = None\n",
    "        \n",
    "    def insert_left(self, value):\n",
    "        if self.left == None:\n",
    "            self.left = Node(value)\n",
    "        else:\n",
    "            new_node = Node(value)\n",
    "            new_node.left = self.left\n",
    "            self.left = new_node\n",
    "        \n",
    "    def insert_right(self, value):\n",
    "        if self.right == None:\n",
    "            self.right = Node(value)\n",
    "        else:\n",
    "            new_node = Node(value)\n",
    "            new_node.right = self.right\n",
    "            self.right = new_node"
   ]
  },
  {
   "cell_type": "code",
   "execution_count": 6,
   "metadata": {},
   "outputs": [
    {
     "name": "stdout",
     "output_type": "stream",
     "text": [
      "a\n",
      "b\n",
      "c\n"
     ]
    }
   ],
   "source": [
    "a = Node('a')\n",
    "a.insert_left('b')\n",
    "a.insert_right('c')\n",
    "\n",
    "\n",
    "print(a.data)\n",
    "print(a.left.data)\n",
    "print(a.right.data)"
   ]
  },
  {
   "cell_type": "code",
   "execution_count": 10,
   "metadata": {},
   "outputs": [
    {
     "name": "stderr",
     "output_type": "stream",
     "text": [
      "usage: ipykernel_launcher.py [-h] [-u USER] [-c COLOR]\n",
      "ipykernel_launcher.py: error: unrecognized arguments: -f /home/umairshah/.local/share/jupyter/runtime/kernel-54df2d93-8a8c-4545-b01e-259fc6840726.json\n"
     ]
    },
    {
     "ename": "SystemExit",
     "evalue": "2",
     "output_type": "error",
     "traceback": [
      "An exception has occurred, use %tb to see the full traceback.\n",
      "\u001b[0;31mSystemExit\u001b[0m\u001b[0;31m:\u001b[0m 2\n"
     ]
    },
    {
     "name": "stderr",
     "output_type": "stream",
     "text": [
      "/home/umairshah/anaconda3/lib/python3.7/site-packages/IPython/core/interactiveshell.py:3334: UserWarning: To exit: use 'exit', 'quit', or Ctrl-D.\n",
      "  warn(\"To exit: use 'exit', 'quit', or Ctrl-D.\", stacklevel=1)\n"
     ]
    }
   ],
   "source": [
    "import os, argparse\n",
    "defaults = {'color': 'red', 'user': 'guest'}\n",
    "\n",
    "parser = argparse.ArgumentParser()\n",
    "parser.add_argument('-u', '--user')\n",
    "parser.add_argument('-c', '--color')\n",
    "namespace = parser.parse_args()\n",
    "command_line_args = {k: v for k, v in vars(namespace).items() if v is not None}\n",
    "\n",
    "combined = ChainMap(command_line_args, os.environ, defaults)\n",
    "print(combined['color'])\n",
    "print(combined['user'])"
   ]
  },
  {
   "cell_type": "code",
   "execution_count": 16,
   "metadata": {},
   "outputs": [
    {
     "name": "stdout",
     "output_type": "stream",
     "text": [
      "([3, 4, 7, 11, 21],)\n"
     ]
    }
   ],
   "source": [
    "def merge_sort(arr):\n",
    "    \n",
    "    if len(arr) > 1:\n",
    "        mid = len(arr) // 2\n",
    "        left = arr[:mid]\n",
    "        right = arr[mid:]\n",
    "        \n",
    "        merge_sort(left)\n",
    "        merge_sort(right)\n",
    "        \n",
    "        i = j = k = 0\n",
    "        \n",
    "        while i < len(left) and j < len(right):\n",
    "            if left[i] < right[j]:\n",
    "                arr[k] = left[i]\n",
    "                i += 1\n",
    "            else:\n",
    "                arr[k] = right[j]\n",
    "                j += 1\n",
    "                \n",
    "            k += 1\n",
    "                \n",
    "        while i < len(left):\n",
    "            arr[k] = left[i]\n",
    "            i += 1\n",
    "            k += 1\n",
    "            \n",
    "        while j < len(right):\n",
    "            arr[k] = right[j]\n",
    "            j += 1\n",
    "            k += 1\n",
    "            \n",
    "        return arr,\n",
    "    \n",
    "    return arr\n",
    "                \n",
    "            \n",
    "print(merge_sort([11,4,7,3,21]))\n",
    "        \n",
    "        "
   ]
  },
  {
   "cell_type": "code",
   "execution_count": null,
   "metadata": {},
   "outputs": [],
   "source": []
  }
 ],
 "metadata": {
  "kernelspec": {
   "display_name": "Python 3",
   "language": "python",
   "name": "python3"
  },
  "language_info": {
   "codemirror_mode": {
    "name": "ipython",
    "version": 3
   },
   "file_extension": ".py",
   "mimetype": "text/x-python",
   "name": "python",
   "nbconvert_exporter": "python",
   "pygments_lexer": "ipython3",
   "version": "3.7.4"
  }
 },
 "nbformat": 4,
 "nbformat_minor": 2
}
