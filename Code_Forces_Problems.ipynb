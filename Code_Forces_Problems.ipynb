{
 "cells": [
  {
   "cell_type": "code",
   "execution_count": 12,
   "metadata": {},
   "outputs": [],
   "source": [
    "a = 3"
   ]
  },
  {
   "cell_type": "code",
   "execution_count": 14,
   "metadata": {},
   "outputs": [
    {
     "name": "stdout",
     "output_type": "stream",
     "text": [
      "3\n"
     ]
    }
   ],
   "source": [
    "print(a)"
   ]
  },
  {
   "cell_type": "code",
   "execution_count": 20,
   "metadata": {},
   "outputs": [
    {
     "name": "stdout",
     "output_type": "stream",
     "text": [
      "[[0, 0, 1], [0, 1, 1], [0, 0, 0], [1, 0, 0]]\n"
     ]
    },
    {
     "data": {
      "text/plain": [
       "1"
      ]
     },
     "execution_count": 20,
     "metadata": {},
     "output_type": "execute_result"
    }
   ],
   "source": [
    "# team problem \n",
    "import random \n",
    "\n",
    "def team(n):\n",
    "    attemted_problems = 0\n",
    "    \n",
    "    n_probs = [[random.randint(0,1) for x in range(3)] for y in range(n)]\n",
    "    print(n_probs)\n",
    "    \n",
    "    for i in n_probs:\n",
    "        c = 0\n",
    "        for k in i:\n",
    "            if k == 1:\n",
    "                c += 1\n",
    "            else:\n",
    "                continue\n",
    "                \n",
    "        if c >= 2:\n",
    "            attemted_problems += 1\n",
    "            \n",
    "        else:\n",
    "            continue\n",
    "    \n",
    "    return attemted_problems\n",
    "        \n",
    "    \n",
    "team(4)"
   ]
  },
  {
   "cell_type": "code",
   "execution_count": 21,
   "metadata": {},
   "outputs": [
    {
     "name": "stdout",
     "output_type": "stream",
     "text": [
      "[[0, 1, 0], [0, 0, 0]]\n"
     ]
    },
    {
     "data": {
      "text/plain": [
       "0"
      ]
     },
     "execution_count": 21,
     "metadata": {},
     "output_type": "execute_result"
    }
   ],
   "source": [
    "import random\n",
    "\n",
    "def team2(n_probs):\n",
    "    \n",
    "    attempted_probs = 0\n",
    "    problems = [[random.randint(0,1) for x in range(3)] for y in range(n_probs)]\n",
    "    print(problems)\n",
    "    \n",
    "    if 1 <= n_probs <= 1000:\n",
    "    \n",
    "        for i in problems:\n",
    "            c = 0\n",
    "            for j in range(len(i)): \n",
    "                if i[j] == 1:\n",
    "                    c += 1\n",
    "\n",
    "                else:\n",
    "                    continue\n",
    "\n",
    "            if c >= 2:\n",
    "                attempted_probs += 1\n",
    "\n",
    "            else:\n",
    "                continue\n",
    "\n",
    "        return attempted_probs\n",
    "    \n",
    "    else:\n",
    "        return f'Array size is too large: {n_probs}'\n",
    "\n",
    "\n",
    "team2(2)"
   ]
  },
  {
   "cell_type": "code",
   "execution_count": 22,
   "metadata": {},
   "outputs": [
    {
     "name": "stdout",
     "output_type": "stream",
     "text": [
      "scores: [0, 0, 0, 0]\n",
      "finisher score: 2\n"
     ]
    },
    {
     "data": {
      "text/plain": [
       "'Finisher not in scores 2'"
      ]
     },
     "execution_count": 22,
     "metadata": {},
     "output_type": "execute_result"
    }
   ],
   "source": [
    "def k_contestents(total_contestents):\n",
    "    \n",
    "\n",
    "#     finisher_score = random.randint(0,10)\n",
    "#     scores = sorted([random.randint(0,10) for x in range(total_contestents)], reverse=True)\n",
    "\n",
    "    scores = [0,0,0,0]\n",
    "    finisher_score = 2\n",
    "    \n",
    "    print(f'scores: {scores}')\n",
    "    print(f'finisher score: {finisher_score}')\n",
    "    \n",
    "    if finisher_score in scores:\n",
    "        return finisher_score + 1\n",
    "    \n",
    "    else:\n",
    "        return f'Finisher not in scores {finisher_score}'\n",
    "\n",
    "k_contestents(10)"
   ]
  },
  {
   "cell_type": "code",
   "execution_count": 38,
   "metadata": {},
   "outputs": [
    {
     "name": "stdout",
     "output_type": "stream",
     "text": [
      "3\n"
     ]
    }
   ],
   "source": [
    "def dominos(rows, cols):\n",
    "    \n",
    "    return (rows * cols) // 2\n",
    "import math \n",
    "\n",
    "if __name__ == '__main__':\n",
    "    print(dominos(3, 2))"
   ]
  },
  {
   "cell_type": "code",
   "execution_count": 42,
   "metadata": {},
   "outputs": [
    {
     "name": "stdout",
     "output_type": "stream",
     "text": [
      "2\n",
      "x++\n",
      "--x\n",
      "0\n"
     ]
    }
   ],
   "source": [
    "def bit_pp():\n",
    "    \n",
    "    n = int(input())\n",
    "    result = 0\n",
    "    statements = []\n",
    "    \n",
    "    for i in range(n):\n",
    "        statement = str(input())\n",
    "        statements.append(statement)\n",
    "        \n",
    "    for j in range(len(statements)):\n",
    "        if '++' in statements[j]:\n",
    "            result += 1\n",
    "        else:\n",
    "            result -= 1\n",
    "            \n",
    "    return result\n",
    "\n",
    "if __name__ == '__main__':\n",
    "    print(bit_pp())"
   ]
  },
  {
   "cell_type": "code",
   "execution_count": 10,
   "metadata": {},
   "outputs": [
    {
     "name": "stdout",
     "output_type": "stream",
     "text": [
      "aslkjlkasdd\n",
      "asdlkjdajwi\n",
      "1\n"
     ]
    }
   ],
   "source": [
    "def lexicographic_string():\n",
    "    \n",
    "    string1 = str(input()).lower()\n",
    "    string2 = str(input()).lower()\n",
    "    \n",
    "    if len(string1) == len(string2):\n",
    "\n",
    "        lexo_dict = {}\n",
    "        count = 0\n",
    "        alphabets = 'abcdefghijklmnopqrstuvwxyz'.lower()\n",
    "\n",
    "        while count < len(alphabets):\n",
    "            lexo_dict[alphabets[count]] = count\n",
    "            count += 1\n",
    "            \n",
    "        strings_list = list(zip(string1, string2))\n",
    "        \n",
    "        for val in strings_list:\n",
    "            if lexo_dict[val[0]] > lexo_dict[val[1]]:\n",
    "                return 1\n",
    "            elif lexo_dict[val[1]] > lexo_dict[val[0]]:\n",
    "                return -1\n",
    "            \n",
    "            else:\n",
    "                continue\n",
    "                \n",
    "        return 0\n",
    "        \n",
    "    else:\n",
    "        return 'string lengths are not same!'\n",
    "\n",
    "if __name__ == '__main__':\n",
    "    print(lexicographic_string())"
   ]
  },
  {
   "cell_type": "code",
   "execution_count": 5,
   "metadata": {},
   "outputs": [
    {
     "name": "stdout",
     "output_type": "stream",
     "text": [
      "aaaa\n",
      "aaaZ\n",
      "a a\n",
      "a a\n",
      "a a\n",
      "a Z\n"
     ]
    }
   ],
   "source": [
    "def lexicographs():\n",
    "    s1 = str(input())\n",
    "    s2 = str(input())\n",
    "    \n",
    "    for i, j in zip(s1, s2):\n",
    "        if i == j:\n",
    "            \n",
    "        \n",
    "        \n",
    "lexicographs()\n",
    "                "
   ]
  },
  {
   "cell_type": "code",
   "execution_count": 7,
   "metadata": {},
   "outputs": [
    {
     "name": "stdout",
     "output_type": "stream",
     "text": [
      "[[0. 0. 0. 0. 1.]\n",
      " [0. 0. 0. 0. 0.]\n",
      " [0. 0. 0. 0. 0.]\n",
      " [0. 0. 0. 0. 0.]\n",
      " [0. 0. 0. 0. 0.]]\n",
      "Initial position: (0, 4)\n",
      "final rows and cols: (2, 2)\n",
      "minimum iterations needed: 4\n"
     ]
    }
   ],
   "source": [
    "import random \n",
    "import numpy as np\n",
    "\n",
    "def beautiful_matrix(row_size, col_size):\n",
    "    \n",
    "    ROW_SIZE, COL_SIZE = (row_size, col_size)\n",
    "    \n",
    "    zeros = np.zeros((ROW_SIZE, COL_SIZE))\n",
    "    \n",
    "    A = random.randint(0, len(zeros)-1)\n",
    "    B = random.randint(0, len(zeros[0])-1)\n",
    "    iterations = 0\n",
    "    zeros[A][B] = 1\n",
    "    \n",
    "    matrix_centre = ROW_SIZE // 2\n",
    "    \n",
    "    print(zeros)\n",
    "    \n",
    "    for r in range(len(zeros)):\n",
    "        for c in range(len(zeros[0])):\n",
    "            if zeros[r][c] == 1:\n",
    "                row_no, col_no = (r, c)\n",
    "                print(f'Initial position: {row_no, col_no}')\n",
    "                \n",
    "                if row_no == matrix_centre and col_no == matrix_centre:\n",
    "                    return 0 \n",
    "                else:\n",
    "                    if row_no > matrix_centre:\n",
    "                        while row_no != matrix_centre:\n",
    "                            row_no -= 1\n",
    "                            iterations += 1\n",
    "                            \n",
    "                    elif row_no < matrix_centre:\n",
    "                        while row_no != matrix_centre:\n",
    "                            row_no += 1\n",
    "                            iterations += 1\n",
    "                            \n",
    "                    if col_no > matrix_centre:\n",
    "                        while col_no != matrix_centre:\n",
    "                            col_no -= 1\n",
    "                            iterations += 1\n",
    "                            \n",
    "                    elif col_no < matrix_centre:\n",
    "                        while col_no != matrix_centre:\n",
    "                            col_no += 1\n",
    "                            iterations += 1\n",
    "                            \n",
    "                    else:\n",
    "                        None\n",
    "                    \n",
    "            else:\n",
    "                continue \n",
    "    \n",
    "    print(f'final rows and cols: {row_no, col_no}')\n",
    "                \n",
    "    return f'minimum iterations needed: {iterations}'\n",
    "    \n",
    "print(beautiful_matrix(5, 5))"
   ]
  },
  {
   "cell_type": "code",
   "execution_count": 19,
   "metadata": {},
   "outputs": [
    {
     "name": "stdout",
     "output_type": "stream",
     "text": [
      "n: 5\n",
      "n: 4\n",
      "n: 3\n",
      "n: 2\n"
     ]
    }
   ],
   "source": [
    "def test(n):\n",
    "    if n > 1:\n",
    "        print('n: %s' %n)\n",
    "        # find the recurrence relations of all the numbers \n",
    "        # in adjacecy matrix!\n",
    "        test(n-1)\n",
    "        \n",
    "    else:\n",
    "        return n\n",
    "    \n",
    "test(5)"
   ]
  },
  {
   "cell_type": "code",
   "execution_count": 37,
   "metadata": {},
   "outputs": [
    {
     "name": "stdout",
     "output_type": "stream",
     "text": [
      "1+2+3+4\n",
      "1+2+3\n"
     ]
    }
   ],
   "source": [
    "summans = str(input())\n",
    "\n",
    "if len(summans) == 0 or ' ' in summans or len(summans) > 100:\n",
    "    print(f'string not valid: {summans}')\n",
    "\n",
    "xenia_list = sorted([int(x) for x in summans.split('+')])\n",
    "\n",
    "for idx, num in enumerate(xenia_list):\n",
    "    if num >= 4:\n",
    "        xenia_list.pop(idx)\n",
    "    else:\n",
    "        continue\n",
    "\n",
    "print('+'.join([str(x) for x in xenia_list]))"
   ]
  },
  {
   "cell_type": "code",
   "execution_count": 50,
   "metadata": {},
   "outputs": [
    {
     "name": "stdout",
     "output_type": "stream",
     "text": [
      "applE\n",
      "A\n",
      "ApplE\n"
     ]
    }
   ],
   "source": [
    "word = str(input())\n",
    "\n",
    "if (len(word) > 10000) or (word == ''):\n",
    "    print(f'string length too big: {len(word)}')\n",
    "    \n",
    "first_letter = word[0].upper()\n",
    "\n",
    "print(str(first_letter) + str(word[1:]))"
   ]
  },
  {
   "cell_type": "code",
   "execution_count": 16,
   "metadata": {},
   "outputs": [
    {
     "name": "stdout",
     "output_type": "stream",
     "text": [
      "4\n",
      "brgb\n",
      "stones: colors: (4, 'BRGB')\n",
      "minimum stones: 0\n"
     ]
    }
   ],
   "source": [
    "stones = int(input())\n",
    "colors = str(input()).upper()\n",
    "colors_list = ['R', 'G', 'B']\n",
    "\n",
    "for c in colors:\n",
    "    if c not in colors_list:\n",
    "        print(f'wrong color inserted: {c}')\n",
    "    else:\n",
    "        continue\n",
    "\n",
    "if stones > 50:\n",
    "    print(f'too much stones on the table: {stones}')\n",
    "\n",
    "if len(colors) != stones:\n",
    "    print(f'fix the length for colors: {len(colors)}')\n",
    "\n",
    "print(f'stones: colors: {stones, colors}')\n",
    "\n",
    "count = 0\n",
    "for i in range(len(colors) -1):\n",
    "    if colors[i] == colors[i+1]:\n",
    "        count += 1\n",
    "    else:\n",
    "        continue\n",
    "        \n",
    "print(f'minimum stones: {count}')"
   ]
  },
  {
   "cell_type": "code",
   "execution_count": 20,
   "metadata": {},
   "outputs": [
    {
     "name": "stdout",
     "output_type": "stream",
     "text": [
      "Enter name: adj;f\n",
      "distinct chars: 5\n",
      "IGNORE HIM!\n"
     ]
    }
   ],
   "source": [
    "string = str(input('Enter name: '))\n",
    "\n",
    "if string.lower() == '' or len(string.lower()) > 100:\n",
    "    print(f'name not acceptable: {string}')\n",
    "else:\n",
    "    string_chars = {}\n",
    "\n",
    "    for char in string:\n",
    "        if char in string_chars:\n",
    "            string_chars[char] += 1\n",
    "        else:\n",
    "            string_chars[char] = 1\n",
    "\n",
    "    print(f'distinct chars: {len(string_chars.keys())}')\n",
    "\n",
    "    if len(string_chars.keys()) % 2 != 0:\n",
    "        print('IGNORE HIM!')\n",
    "    else:\n",
    "        print('CHAR WITH HER')"
   ]
  },
  {
   "cell_type": "code",
   "execution_count": 8,
   "metadata": {},
   "outputs": [
    {
     "name": "stdout",
     "output_type": "stream",
     "text": [
      "0\n",
      "17\n",
      "4\n",
      "wrong values provided\n"
     ]
    }
   ],
   "source": [
    "# soldiers and bananas \n",
    "import numpy as np \n",
    "\n",
    "k, n, w = int(input()), int(input()), int(input())\n",
    "\n",
    "if 1 <= k and w <= 1000 and 0 <= n <= 10**9:\n",
    "\n",
    "    total_banana_amount = 0\n",
    "\n",
    "    for c in range(1,w+1):\n",
    "        total_banana_amount += k * c\n",
    "\n",
    "    print(f'total amount: {total_banana_amount}')\n",
    "\n",
    "    borrow_amount = total_banana_amount - n\n",
    "\n",
    "    print(f'borrow amount: {borrow_amount}')\n",
    "    \n",
    "else:\n",
    "    print('wrong values provided')"
   ]
  },
  {
   "cell_type": "code",
   "execution_count": 71,
   "metadata": {},
   "outputs": [
    {
     "name": "stdout",
     "output_type": "stream",
     "text": [
      "4 7\n",
      "years needed: 2\n"
     ]
    }
   ],
   "source": [
    "# limx and bob\n",
    "def limx_and_bob():\n",
    "    a, b = (int(x) for x in input().split())\n",
    "\n",
    "    if a > 10 or b > 10:\n",
    "        print(f'wrong weights: {a, b}')\n",
    "\n",
    "    else:\n",
    "        years = 1\n",
    "        for _ in range(1, 100):\n",
    "            limax_weight = a * 3\n",
    "            bob_weight = b * 2\n",
    "\n",
    "            if limax_weight > bob_weight:\n",
    "                print(f'years needed: {years}')\n",
    "                break\n",
    "\n",
    "            else:\n",
    "                years += 1\n",
    "                a = limax_weight\n",
    "                b = bob_weight\n",
    "\n",
    "if __name__ == '__main__':\n",
    "    limx_and_bob()"
   ]
  },
  {
   "cell_type": "code",
   "execution_count": 28,
   "metadata": {},
   "outputs": [
    {
     "name": "stdout",
     "output_type": "stream",
     "text": [
      "Enter name: umair/\n",
      "new string: ['u', 'm', 'a', 'i', 'r', '/']\n",
      "CHAT WITH HER!\n"
     ]
    }
   ],
   "source": [
    "string = str(input('Enter name: ')).lower()\n",
    "new_string = []\n",
    "\n",
    "if string == '' or len(string) > 100:\n",
    "    print('wrong string')\n",
    "else:\n",
    "\n",
    "    for char in string:\n",
    "        if char in new_string:\n",
    "            continue \n",
    "        else:\n",
    "            new_string.append(char)\n",
    "\n",
    "    print(f'new string: {new_string}')\n",
    "\n",
    "    if len(new_string) % 2==0:\n",
    "        print('CHAT WITH HER!')\n",
    "    else:\n",
    "        print('IGNORE HIM!')"
   ]
  },
  {
   "cell_type": "code",
   "execution_count": 6,
   "metadata": {},
   "outputs": [
    {
     "name": "stdout",
     "output_type": "stream",
     "text": [
      "{'u': None, 'm': None, 'a': None, 'i': None, 'r': None}\n"
     ]
    }
   ],
   "source": [
    "s = 'umair'\n",
    "s1 = dict.fromkeys(s)\n",
    "\n",
    "print(s1)"
   ]
  },
  {
   "cell_type": "code",
   "execution_count": 7,
   "metadata": {},
   "outputs": [
    {
     "name": "stdout",
     "output_type": "stream",
     "text": [
      "5\n"
     ]
    }
   ],
   "source": [
    "print(len(char_count))"
   ]
  },
  {
   "cell_type": "code",
   "execution_count": 8,
   "metadata": {},
   "outputs": [
    {
     "name": "stdout",
     "output_type": "stream",
     "text": [
      "{'u': 5, 'm': 1, 'a': 1, 'i': 1, 'r': 1}\n"
     ]
    }
   ],
   "source": [
    "print(char_count)"
   ]
  },
  {
   "cell_type": "code",
   "execution_count": 10,
   "metadata": {},
   "outputs": [
    {
     "name": "stdout",
     "output_type": "stream",
     "text": [
      "5\n"
     ]
    }
   ],
   "source": [
    "print(len(char_count))"
   ]
  },
  {
   "cell_type": "code",
   "execution_count": 5,
   "metadata": {},
   "outputs": [
    {
     "name": "stdout",
     "output_type": "stream",
     "text": [
      "umair\n",
      "IGNORE HIM!\n"
     ]
    }
   ],
   "source": [
    "def main():\n",
    "    s = str(input())\n",
    "    if (len(s) > 100) or (s == ''):\n",
    "        print('wrong string: %s' %string)\n",
    "        \n",
    "    else:\n",
    "        new_string = []\n",
    "        \n",
    "        for char in s:\n",
    "            if char in new_string:\n",
    "                continue \n",
    "            else:\n",
    "                new_string.append(char)\n",
    "                \n",
    "        if len(new_string) % 2 == 0:\n",
    "            print('CHAT WITH HER!')\n",
    "        else:\n",
    "            print('IGNORE HIM!')\n",
    "        \n",
    "if __name__ == '__main__':\n",
    "    main()"
   ]
  },
  {
   "cell_type": "code",
   "execution_count": 20,
   "metadata": {},
   "outputs": [
    {
     "name": "stdout",
     "output_type": "stream",
     "text": [
      "3\n",
      "17\n",
      "4\n",
      "total amount: 459\n",
      "borrow amount: 455\n"
     ]
    }
   ],
   "source": [
    "# soldiers and bananas \n",
    "import numpy as np \n",
    "\n",
    "# k -> cost of first banana\n",
    "# w -> initial number of dollars soldier have\n",
    "# n -> number of bananas soldier wants to buy \n",
    "\n",
    "def soldier_banana():\n",
    "    k, w, n = int(input()), int(input()), int(input())\n",
    "\n",
    "#     if (1 <= k) and (w <= 1000) and (0 <= n <= 10**9):\n",
    "    total_amount = 0\n",
    "    for c in range(1, w+1):\n",
    "        total_amount += k * c\n",
    "    print('total amount: %s' %total_amount)\n",
    "\n",
    "    borrow_amount = total_amount - n\n",
    "\n",
    "    if w > total_amount:\n",
    "        print(0)\n",
    "    else:\n",
    "        print(f\"borrow amount: {borrow_amount}\")\n",
    "        \n",
    "#     else:\n",
    "#         print('wong values provided!')\n",
    "        \n",
    "if __name__ == '__main__':\n",
    "    soldier_banana()"
   ]
  },
  {
   "cell_type": "code",
   "execution_count": 67,
   "metadata": {},
   "outputs": [
    {
     "name": "stdout",
     "output_type": "stream",
     "text": [
      "3 17 4\n",
      "13\n"
     ]
    }
   ],
   "source": [
    "def soldier_banana():\n",
    "    k, n, w = map(int,input().split()) # k, n ,w = (int(x) for x in input().split())\n",
    "\n",
    "    total_amt = 0\n",
    "\n",
    "    for c in range(1, w+1):\n",
    "        total_amt += c * k\n",
    "\n",
    "    borrow_amt = total_amt - n\n",
    "\n",
    "    if n >= total_amt:\n",
    "        borrow_amt = 0\n",
    "        print(borrow_amt)\n",
    "\n",
    "    else:\n",
    "        print(total_amt - n)\n",
    "        \n",
    "if __name__ == '__main__':\n",
    "    soldier_banana()"
   ]
  },
  {
   "cell_type": "code",
   "execution_count": 17,
   "metadata": {},
   "outputs": [
    {
     "name": "stdout",
     "output_type": "stream",
     "text": [
      "4\n",
      "word\n",
      "word2\n",
      "word3\n",
      "localization\n",
      "word\n",
      "word2\n",
      "word3\n",
      "l10n\n"
     ]
    }
   ],
   "source": [
    "def long_words():\n",
    "    n = int(input())\n",
    "    new_words = []\n",
    "    for _ in range(n):\n",
    "        word = str(input()).lower()\n",
    "        \n",
    "        if len(word) > 10:\n",
    "            word_ = str(word[0]) + str(len(word[1:-1])) + str(word[-1])\n",
    "            new_words.append(word_)\n",
    "        else:\n",
    "            new_words.append(word)\n",
    "                             \n",
    "    for i in range(len(new_words)):\n",
    "        print(new_words[i])\n",
    "if __name__ == '__main__':\n",
    "    long_words()"
   ]
  },
  {
   "cell_type": "code",
   "execution_count": 44,
   "metadata": {},
   "outputs": [],
   "source": [
    "class Stack:\n",
    "    def __init__(self):\n",
    "        self.items = []\n",
    "        \n",
    "    def push(self, item):\n",
    "        self.items.append(item)\n",
    "        \n",
    "    def pop(self, idx):\n",
    "        self.items.pop(idx)\n",
    "        \n",
    "    def is_empty():\n",
    "        return len(self.items) == 0\n",
    "    \n",
    "    def size(self):\n",
    "        return len(self.items)\n",
    "    \n",
    "    def peek(self):\n",
    "        return self.items[len(self.items) - 1]\n",
    "    \n",
    "    def __repr__(self):\n",
    "        return f\"Stack class\""
   ]
  },
  {
   "cell_type": "code",
   "execution_count": 45,
   "metadata": {},
   "outputs": [],
   "source": [
    "s = Stack()"
   ]
  },
  {
   "cell_type": "code",
   "execution_count": 46,
   "metadata": {},
   "outputs": [
    {
     "data": {
      "text/plain": [
       "0"
      ]
     },
     "execution_count": 46,
     "metadata": {},
     "output_type": "execute_result"
    }
   ],
   "source": [
    "s.size()"
   ]
  },
  {
   "cell_type": "code",
   "execution_count": 47,
   "metadata": {},
   "outputs": [],
   "source": [
    "s.push(1)"
   ]
  },
  {
   "cell_type": "code",
   "execution_count": 48,
   "metadata": {},
   "outputs": [
    {
     "name": "stdout",
     "output_type": "stream",
     "text": [
      "Stack class\n"
     ]
    }
   ],
   "source": [
    "print(s)"
   ]
  },
  {
   "cell_type": "code",
   "execution_count": 6,
   "metadata": {},
   "outputs": [
    {
     "name": "stdout",
     "output_type": "stream",
     "text": [
      "1000000000 9\n",
      "1\n"
     ]
    }
   ],
   "source": [
    "def k_substractions():\n",
    "    \n",
    "    n, k = (int(x) for x in input().split())\n",
    "    \n",
    "    for i in range(k):\n",
    "        if n > 0:\n",
    "            if n % 10 == 0:\n",
    "                n /= 10\n",
    "            else:\n",
    "                n -= 1\n",
    "                \n",
    "        else:\n",
    "            return n\n",
    "        \n",
    "    return int(n)\n",
    "\n",
    "if __name__ == '__main__':\n",
    "    print(k_substractions())"
   ]
  },
  {
   "cell_type": "code",
   "execution_count": 3,
   "metadata": {},
   "outputs": [
    {
     "name": "stdout",
     "output_type": "stream",
     "text": [
      "4\n",
      "0 5\n",
      "2 3\n",
      "1 2\n",
      "3 0\n",
      "7\n"
     ]
    }
   ],
   "source": [
    "def tram():\n",
    "    stops = int(input())\n",
    "    \n",
    "    total = []\n",
    "    exist, enter = [int(x) for x in input().split()]\n",
    "    \n",
    "    total.append((exist + enter))\n",
    "    \n",
    "    i = total[0]\n",
    "    \n",
    "    for stop in range(stops-1):\n",
    "        exit, enter = [int(x) for x in input().split()]\n",
    "        i = i - exit + enter\n",
    "        total.append(i)\n",
    "        \n",
    "    return max(total)\n",
    "        \n",
    "if __name__ == '__main__':\n",
    "    print(tram())"
   ]
  },
  {
   "cell_type": "code",
   "execution_count": 5,
   "metadata": {},
   "outputs": [
    {
     "name": "stdout",
     "output_type": "stream",
     "text": [
      "1000000\n",
      "200000\n"
     ]
    }
   ],
   "source": [
    "def elephant_visit():\n",
    "    friend_house = int(input())\n",
    "    \n",
    "    if friend_house <= 5:\n",
    "        return 1 \n",
    "    elif friend_house % 5 == 0:\n",
    "        return friend_house // 5\n",
    "    else:\n",
    "        return friend_house // 5 + 1\n",
    "    \n",
    "if __name__ == '__main__':\n",
    "    print(elephant_visit())"
   ]
  },
  {
   "cell_type": "code",
   "execution_count": 3,
   "metadata": {},
   "outputs": [
    {
     "name": "stdout",
     "output_type": "stream",
     "text": [
      "maTRIx\n",
      "matrix\n"
     ]
    }
   ],
   "source": [
    "from collections import defaultdict\n",
    "\n",
    "def word():\n",
    "    word_ = str(input())\n",
    "    \n",
    "    char_dict = {'uppers': 0,\n",
    "                'lowers': 0}\n",
    "    \n",
    "    for char in word_:\n",
    "        if char.isupper() == True:\n",
    "            char_dict['uppers'] += 1\n",
    "        else:\n",
    "            char_dict['lowers'] += 1\n",
    "            \n",
    "    if char_dict['uppers'] > char_dict['lowers']:\n",
    "        return word_.upper()\n",
    "    \n",
    "    elif char_dict['uppers'] < char_dict['lowers']:\n",
    "        return word_.lower()\n",
    "    \n",
    "    else:\n",
    "        return word_.lower()\n",
    "\n",
    "if __name__ == '__main__':\n",
    "    print(word())"
   ]
  },
  {
   "cell_type": "code",
   "execution_count": 1,
   "metadata": {},
   "outputs": [
    {
     "name": "stdout",
     "output_type": "stream",
     "text": [
      "5 1\n",
      "BBGBG\n"
     ]
    },
    {
     "ename": "TypeError",
     "evalue": "'str' object does not support item assignment",
     "output_type": "error",
     "traceback": [
      "\u001b[0;31m---------------------------------------------------------------------------\u001b[0m",
      "\u001b[0;31mTypeError\u001b[0m                                 Traceback (most recent call last)",
      "\u001b[0;32m<ipython-input-1-3d2682d66c13>\u001b[0m in \u001b[0;36m<module>\u001b[0;34m\u001b[0m\n\u001b[1;32m     17\u001b[0m \u001b[0;34m\u001b[0m\u001b[0m\n\u001b[1;32m     18\u001b[0m \u001b[0;32mif\u001b[0m \u001b[0m__name__\u001b[0m \u001b[0;34m==\u001b[0m \u001b[0;34m'__main__'\u001b[0m\u001b[0;34m:\u001b[0m\u001b[0;34m\u001b[0m\u001b[0;34m\u001b[0m\u001b[0m\n\u001b[0;32m---> 19\u001b[0;31m     \u001b[0mprint\u001b[0m\u001b[0;34m(\u001b[0m\u001b[0mqueue\u001b[0m\u001b[0;34m(\u001b[0m\u001b[0;34m)\u001b[0m\u001b[0;34m)\u001b[0m\u001b[0;34m\u001b[0m\u001b[0;34m\u001b[0m\u001b[0m\n\u001b[0m",
      "\u001b[0;32m<ipython-input-1-3d2682d66c13>\u001b[0m in \u001b[0;36mqueue\u001b[0;34m()\u001b[0m\n\u001b[1;32m      8\u001b[0m         \u001b[0;32mfor\u001b[0m \u001b[0mi\u001b[0m \u001b[0;32min\u001b[0m \u001b[0mrange\u001b[0m\u001b[0;34m(\u001b[0m\u001b[0mlen\u001b[0m\u001b[0;34m(\u001b[0m\u001b[0mstring\u001b[0m\u001b[0;34m)\u001b[0m \u001b[0;34m-\u001b[0m\u001b[0;36m1\u001b[0m\u001b[0;34m)\u001b[0m\u001b[0;34m:\u001b[0m\u001b[0;34m\u001b[0m\u001b[0;34m\u001b[0m\u001b[0m\n\u001b[1;32m      9\u001b[0m             \u001b[0;32mif\u001b[0m \u001b[0mstring\u001b[0m\u001b[0;34m[\u001b[0m\u001b[0mi\u001b[0m\u001b[0;34m]\u001b[0m \u001b[0;34m==\u001b[0m \u001b[0;34m'B'\u001b[0m \u001b[0;32mand\u001b[0m \u001b[0mstring\u001b[0m\u001b[0;34m[\u001b[0m\u001b[0mi\u001b[0m\u001b[0;34m+\u001b[0m\u001b[0;36m1\u001b[0m\u001b[0;34m]\u001b[0m \u001b[0;34m==\u001b[0m \u001b[0;34m'G'\u001b[0m\u001b[0;34m:\u001b[0m\u001b[0;34m\u001b[0m\u001b[0;34m\u001b[0m\u001b[0m\n\u001b[0;32m---> 10\u001b[0;31m                 \u001b[0mstring\u001b[0m\u001b[0;34m[\u001b[0m\u001b[0mi\u001b[0m\u001b[0;34m+\u001b[0m\u001b[0;36m1\u001b[0m\u001b[0;34m]\u001b[0m\u001b[0;34m,\u001b[0m \u001b[0mstring\u001b[0m\u001b[0;34m[\u001b[0m\u001b[0mi\u001b[0m\u001b[0;34m]\u001b[0m \u001b[0;34m=\u001b[0m \u001b[0mstring\u001b[0m\u001b[0;34m[\u001b[0m\u001b[0mi\u001b[0m\u001b[0;34m]\u001b[0m\u001b[0;34m,\u001b[0m \u001b[0mstring\u001b[0m\u001b[0;34m[\u001b[0m\u001b[0mi\u001b[0m\u001b[0;34m+\u001b[0m\u001b[0;36m1\u001b[0m\u001b[0;34m]\u001b[0m\u001b[0;34m\u001b[0m\u001b[0;34m\u001b[0m\u001b[0m\n\u001b[0m\u001b[1;32m     11\u001b[0m             \u001b[0;32melse\u001b[0m\u001b[0;34m:\u001b[0m\u001b[0;34m\u001b[0m\u001b[0;34m\u001b[0m\u001b[0m\n\u001b[1;32m     12\u001b[0m                 \u001b[0;32mcontinue\u001b[0m\u001b[0;34m\u001b[0m\u001b[0;34m\u001b[0m\u001b[0m\n",
      "\u001b[0;31mTypeError\u001b[0m: 'str' object does not support item assignment"
     ]
    }
   ],
   "source": [
    "def queue():\n",
    "    n, t = [int(x) for x in input().split()]\n",
    "    string = str(input()).upper()\n",
    "    \n",
    "    idx = 0\n",
    "    \n",
    "    while idx <= t:\n",
    "        for i in range(len(string) -1):\n",
    "            if string[i] == 'B' and string[i+1] == 'G':\n",
    "                string[i+1], string[i] = string[i], string[i+1]\n",
    "            else:\n",
    "                continue\n",
    "                \n",
    "        idx += 1\n",
    "        \n",
    "    return string\n",
    "\n",
    "if __name__ == '__main__':\n",
    "    print(queue())"
   ]
  },
  {
   "cell_type": "code",
   "execution_count": 19,
   "metadata": {},
   "outputs": [
    {
     "name": "stdout",
     "output_type": "stream",
     "text": [
      "5 1\n",
      "BGGBG\n",
      "GBGBG\n"
     ]
    }
   ],
   "source": [
    "def queue():\n",
    "    n, t = [int(x) for x in input().split()]\n",
    "    string = str(input()).upper()\n",
    "    \n",
    "    string = [str(x) for x in string]\n",
    "    \n",
    "    for i in range(t):\n",
    "        for j in range(len(string) -1):\n",
    "            if string[j] == 'B' and string[j+1] == 'G':\n",
    "                string[i+1], string[i] = string[i], string[i+1]\n",
    "                \n",
    "            else:\n",
    "                continue\n",
    "            \n",
    "    return ''.join(string)\n",
    "\n",
    "if __name__ == '__main__':\n",
    "    print(queue())"
   ]
  },
  {
   "cell_type": "code",
   "execution_count": 18,
   "metadata": {},
   "outputs": [
    {
     "name": "stdout",
     "output_type": "stream",
     "text": [
      "5 1\n",
      "BGGBG\n",
      "['B', 'G', 'G', 'B', 'G']\n",
      "['G', 'G', 'B', 'G', 'B']\n"
     ]
    }
   ],
   "source": [
    "n, t = [int(x) for x in input().split()]\n",
    "l = str(input()).upper()\n",
    "\n",
    "l = [str(x) for x in l]\n",
    "\n",
    "print(l)\n",
    "\n",
    "idx = 0\n",
    "\n",
    "while idx < t:\n",
    "    \n",
    "    for i in range(len(l) -1):\n",
    "        if l[i] == 'B' and l[i+1] == 'G':\n",
    "            l[i+1], l[i]= l[i], l[i+1]\n",
    "        else:\n",
    "            continue\n",
    "            \n",
    "    idx += 1\n",
    "        \n",
    "print(l)"
   ]
  },
  {
   "cell_type": "code",
   "execution_count": 16,
   "metadata": {},
   "outputs": [
    {
     "name": "stdout",
     "output_type": "stream",
     "text": [
      "initial string: ['G', 'G', 'G', 'B']\n"
     ]
    },
    {
     "ename": "IndexError",
     "evalue": "list index out of range",
     "output_type": "error",
     "traceback": [
      "\u001b[0;31m---------------------------------------------------------------------------\u001b[0m",
      "\u001b[0;31mIndexError\u001b[0m                                Traceback (most recent call last)",
      "\u001b[0;32m<ipython-input-16-8f63f4d9ba55>\u001b[0m in \u001b[0;36m<module>\u001b[0;34m\u001b[0m\n\u001b[1;32m     10\u001b[0m \u001b[0mindexes\u001b[0m \u001b[0;34m=\u001b[0m \u001b[0;34m[\u001b[0m\u001b[0;34m]\u001b[0m\u001b[0;34m\u001b[0m\u001b[0;34m\u001b[0m\u001b[0m\n\u001b[1;32m     11\u001b[0m \u001b[0;32mwhile\u001b[0m \u001b[0mi\u001b[0m \u001b[0;34m<\u001b[0m \u001b[0mlen\u001b[0m\u001b[0;34m(\u001b[0m\u001b[0mstring\u001b[0m\u001b[0;34m)\u001b[0m\u001b[0;34m:\u001b[0m\u001b[0;34m\u001b[0m\u001b[0;34m\u001b[0m\u001b[0m\n\u001b[0;32m---> 12\u001b[0;31m     \u001b[0;32mif\u001b[0m \u001b[0mstring\u001b[0m\u001b[0;34m[\u001b[0m\u001b[0mi\u001b[0m\u001b[0;34m]\u001b[0m \u001b[0;34m==\u001b[0m \u001b[0;34m'B'\u001b[0m \u001b[0;32mand\u001b[0m \u001b[0mstring\u001b[0m\u001b[0;34m[\u001b[0m\u001b[0mi\u001b[0m\u001b[0;34m+\u001b[0m\u001b[0;36m1\u001b[0m\u001b[0;34m]\u001b[0m \u001b[0;34m==\u001b[0m \u001b[0;34m'G'\u001b[0m\u001b[0;34m:\u001b[0m\u001b[0;34m\u001b[0m\u001b[0;34m\u001b[0m\u001b[0m\n\u001b[0m\u001b[1;32m     13\u001b[0m         \u001b[0mcount\u001b[0m \u001b[0;34m+=\u001b[0m \u001b[0;36m1\u001b[0m\u001b[0;34m\u001b[0m\u001b[0;34m\u001b[0m\u001b[0m\n\u001b[1;32m     14\u001b[0m         \u001b[0mindexes\u001b[0m\u001b[0;34m.\u001b[0m\u001b[0mappend\u001b[0m\u001b[0;34m(\u001b[0m\u001b[0mi\u001b[0m\u001b[0;34m)\u001b[0m\u001b[0;34m\u001b[0m\u001b[0;34m\u001b[0m\u001b[0m\n",
      "\u001b[0;31mIndexError\u001b[0m: list index out of range"
     ]
    }
   ],
   "source": [
    "t = 1\n",
    "string = 'GGGB'\n",
    "\n",
    "string = [str(x) for x in string] # ['B','G','G','B','G']\n",
    "\n",
    "print(f\"initial string: {string}\")\n",
    "\n",
    "count = 0\n",
    "i = 0\n",
    "indexes = []\n",
    "while i < len(string):\n",
    "    if string[i] == 'B' and string[i+1] == 'G':\n",
    "        count += 1\n",
    "        indexes.append(i)\n",
    "        i += 1\n",
    "    else:\n",
    "        i += 1\n",
    "\n",
    "new_string = []\n",
    "for idx in indexes:\n",
    "    string[idx+1], string[idx] = string[idx], string[idx+1]\n",
    "new_string.append(string)\n",
    "    \n",
    "print(new_string)"
   ]
  },
  {
   "cell_type": "code",
   "execution_count": 23,
   "metadata": {},
   "outputs": [
    {
     "name": "stdout",
     "output_type": "stream",
     "text": [
      "5 2\n",
      "BGGBG\n",
      "GGBGB\n"
     ]
    }
   ],
   "source": [
    "n, t = [int(x) for x in input().split()]\n",
    "string = str(input())\n",
    "\n",
    "string = [str(x) for x in string]\n",
    "\n",
    "def find_indexes(s):\n",
    "    \"\"\"find indexes to swap\"\"\"\n",
    "    indexes = []\n",
    "    for i in range(len(s)-1):\n",
    "        if s[i] == 'B' and s[i+1] == 'G':\n",
    "            indexes.append(i)\n",
    "            \n",
    "        else:\n",
    "            continue\n",
    "            \n",
    "    return indexes\n",
    "\n",
    "def swap_indexes(s_, t):\n",
    "    i = 0\n",
    "    while i < t:\n",
    "        indexes = find_indexes(s_)\n",
    "        for k in indexes:\n",
    "            s_[k+1], s_[k] = s_[k], s_[k+1]\n",
    "            \n",
    "        i += 1\n",
    "            \n",
    "    return ''.join(s_)\n",
    "\n",
    "\n",
    "if __name__ == '__main__':\n",
    "    print(swap_indexes(string, time))"
   ]
  },
  {
   "cell_type": "code",
   "execution_count": null,
   "metadata": {},
   "outputs": [],
   "source": []
  }
 ],
 "metadata": {
  "kernelspec": {
   "display_name": "Python 3",
   "language": "python",
   "name": "python3"
  },
  "language_info": {
   "codemirror_mode": {
    "name": "ipython",
    "version": 3
   },
   "file_extension": ".py",
   "mimetype": "text/x-python",
   "name": "python",
   "nbconvert_exporter": "python",
   "pygments_lexer": "ipython3",
   "version": "3.7.6"
  }
 },
 "nbformat": 4,
 "nbformat_minor": 4
}
